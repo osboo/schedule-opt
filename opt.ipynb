{
 "cells": [
  {
   "cell_type": "markdown",
   "metadata": {},
   "source": [
    "!pip install pulp"
   ]
  },
  {
   "cell_type": "markdown",
   "metadata": {},
   "source": [
    "!pip install Faker"
   ]
  },
  {
   "cell_type": "code",
   "execution_count": 1,
   "metadata": {},
   "outputs": [],
   "source": [
    "import itertools"
   ]
  },
  {
   "cell_type": "code",
   "execution_count": 2,
   "metadata": {},
   "outputs": [],
   "source": [
    "from pulp import *\n",
    "problem = LpProblem(\"schedule-opt\", LpMaximize)"
   ]
  },
  {
   "cell_type": "code",
   "execution_count": 3,
   "metadata": {},
   "outputs": [],
   "source": [
    "from faker import Faker\n",
    "fake = Faker() "
   ]
  },
  {
   "cell_type": "code",
   "execution_count": 4,
   "metadata": {},
   "outputs": [],
   "source": [
    "from collections import namedtuple"
   ]
  },
  {
   "cell_type": "code",
   "execution_count": 5,
   "metadata": {},
   "outputs": [],
   "source": [
    "N_l = 1 # number of teachers\n",
    "N_g = 1 # number of groups\n",
    "N_s = 2 # number of courses"
   ]
  },
  {
   "cell_type": "code",
   "execution_count": 6,
   "metadata": {},
   "outputs": [],
   "source": [
    "L = [fake.name() for _ in range(N_l)]\n",
    "G = range(0, N_g)\n",
    "types = ['lection', 'lab', 'practice']\n",
    "subjs = [fake.job() for _ in range(N_s)]\n",
    "D = range(0, 3)\n",
    "T = \"a,b,c,d,e,f,g,h,i,j,k,l,m,n,o,p,q,r,s,t,u,v,w,z,y,z\"[0:2*24]"
   ]
  },
  {
   "cell_type": "code",
   "execution_count": 7,
   "metadata": {},
   "outputs": [],
   "source": [
    "T = T.split(',')[:-1]"
   ]
  },
  {
   "cell_type": "code",
   "execution_count": 8,
   "metadata": {},
   "outputs": [],
   "source": [
    "def get_all_sp_keys(L, G, types, subjs, D, T):\n",
    "    return itertools.product(L, G, types, subjs, D, T)"
   ]
  },
  {
   "cell_type": "code",
   "execution_count": 9,
   "metadata": {},
   "outputs": [],
   "source": [
    "def get_all_gdt_keys(GG, DD, TT):\n",
    "    return itertools.product(GG, DD, TT)"
   ]
  },
  {
   "cell_type": "code",
   "execution_count": 10,
   "metadata": {},
   "outputs": [],
   "source": [
    "def get_all_ldt_keys(LL, DD, TT):\n",
    "    return itertools.product(LL, DD, TT)"
   ]
  },
  {
   "cell_type": "code",
   "execution_count": 11,
   "metadata": {},
   "outputs": [],
   "source": [
    "SP = LpVariable.dicts(\"SP\", get_all_sp_keys(L, G, types, subjs, D, T), 0, 1, cat=pulp.LpInteger)"
   ]
  },
  {
   "cell_type": "code",
   "execution_count": 12,
   "metadata": {},
   "outputs": [],
   "source": [
    "Ig = LpVariable.dicts(\"Ig\", get_all_gdt_keys(G, D, T[:-1]), -1, 1, cat=pulp.LpInteger)"
   ]
  },
  {
   "cell_type": "code",
   "execution_count": 13,
   "metadata": {},
   "outputs": [],
   "source": [
    "Il = LpVariable.dicts(\"Il\", get_all_ldt_keys(L, D, T[:-1]), -1, 1, cat=pulp.LpInteger)"
   ]
  },
  {
   "cell_type": "code",
   "execution_count": 14,
   "metadata": {},
   "outputs": [],
   "source": [
    "one = LpVariable(\"one\", 1, 1, cat=pulp.LpInteger)"
   ]
  },
  {
   "cell_type": "code",
   "execution_count": 15,
   "metadata": {},
   "outputs": [],
   "source": [
    "zero = LpVariable(\"zero\", 0, 0, cat=pulp.LpInteger)"
   ]
  },
  {
   "cell_type": "code",
   "execution_count": 16,
   "metadata": {},
   "outputs": [],
   "source": [
    "def get_x_by_gdt(g, d, t, SP):\n",
    "    s = lpSum([SP[key] for key in itertools.product(L, [g], types, subjs, [d], [t])])\n",
    "    return s"
   ]
  },
  {
   "cell_type": "code",
   "execution_count": 17,
   "metadata": {},
   "outputs": [],
   "source": [
    "def get_x_by_ldt(l, d, t, SP):\n",
    "    s = lpSum([SP[key] for key in itertools.product([l], G, types, subjs, [d], [t])])\n",
    "    return s"
   ]
  },
  {
   "cell_type": "code",
   "execution_count": 18,
   "metadata": {},
   "outputs": [],
   "source": [
    "def sum_x_by_g(g, SP):\n",
    "    sum = lpSum([SP[key] for key in itertools.product(L, [g], types, subjs, D, T)])\n",
    "    return sum"
   ]
  },
  {
   "cell_type": "code",
   "execution_count": 19,
   "metadata": {},
   "outputs": [],
   "source": [
    "def sum_x_by_l(l, SP):\n",
    "    sum = lpSum([SP[key] for key in itertools.product([l], G, types, subjs, D, T)])\n",
    "    return sum"
   ]
  },
  {
   "cell_type": "code",
   "execution_count": 20,
   "metadata": {},
   "outputs": [],
   "source": [
    "alpha = 1.0\n",
    "beta = 1.0\n",
    "gamma = 1.0"
   ]
  },
  {
   "cell_type": "code",
   "execution_count": 21,
   "metadata": {},
   "outputs": [],
   "source": [
    "def get_c(key):\n",
    "    return 1.0"
   ]
  },
  {
   "cell_type": "markdown",
   "metadata": {},
   "source": [
    "# Problem"
   ]
  },
  {
   "cell_type": "code",
   "execution_count": 22,
   "metadata": {},
   "outputs": [],
   "source": [
    "all_lectures = [alpha * get_c(key) * SP[key] for key in get_all_sp_keys(L, G, types, subjs, D, T)]"
   ]
  },
  {
   "cell_type": "code",
   "execution_count": 23,
   "metadata": {},
   "outputs": [],
   "source": [
    "all_groups_no_gaps = [beta * Ig[key] for key in get_all_gdt_keys(G, D, T[:-1])]"
   ]
  },
  {
   "cell_type": "code",
   "execution_count": 24,
   "metadata": {},
   "outputs": [],
   "source": [
    "all_teachers_no_gaps = [gamma * Il[key] for key in get_all_ldt_keys(L, D, T[:-1])]"
   ]
  },
  {
   "cell_type": "code",
   "execution_count": 25,
   "metadata": {},
   "outputs": [],
   "source": [
    "problem += lpSum(all_lectures + all_groups_no_gaps + all_teachers_no_gaps)"
   ]
  },
  {
   "cell_type": "markdown",
   "metadata": {},
   "source": [
    "# Constraints"
   ]
  },
  {
   "cell_type": "markdown",
   "metadata": {},
   "source": [
    "## Minimize gaps between lessons for teacher"
   ]
  },
  {
   "cell_type": "code",
   "execution_count": 26,
   "metadata": {},
   "outputs": [],
   "source": [
    "def next_letter(symbol):\n",
    "    return T[(T.index(symbol) + 1) % len(T)]"
   ]
  },
  {
   "cell_type": "code",
   "execution_count": 27,
   "metadata": {},
   "outputs": [],
   "source": [
    "for (teacher, day, time) in itertools.product(L, D, T[:-1]):\n",
    "    # problem += get_x_by_ldt(teacher, day, time, SP) + get_x_by_ldt(teacher, day, time + 1, SP) -1 >= Il[teacher, day, time]\n",
    "    problem += get_x_by_ldt(teacher, day, time, SP) + get_x_by_ldt(teacher, day, next_letter(time), SP)- Il[teacher, day, time]>=1"
   ]
  },
  {
   "cell_type": "markdown",
   "metadata": {},
   "source": [
    "## Minimize gaps between lessons for group"
   ]
  },
  {
   "cell_type": "code",
   "execution_count": 28,
   "metadata": {},
   "outputs": [],
   "source": [
    "for (group, day, time) in itertools.product(G, D, T[:-1]):\n",
    "    # problem += get_x_by_gdt(group, day, time, SP) + get_x_by_gdt(group, day, time + 1, SP) -1 >= Ig[group, day, time]\n",
    "    problem += get_x_by_gdt(group, day, time, SP) + get_x_by_gdt(group, day, next_letter(time), SP)- Ig[group, day, time]>=1"
   ]
  },
  {
   "cell_type": "code",
   "execution_count": 29,
   "metadata": {},
   "outputs": [],
   "source": [
    "with open('problem.txt', 'w') as f:\n",
    "    print(problem, file=f)"
   ]
  },
  {
   "cell_type": "markdown",
   "metadata": {},
   "source": [
    "## Amount of lessons for group must be no more than payload in plan"
   ]
  },
  {
   "cell_type": "code",
   "execution_count": 30,
   "metadata": {},
   "outputs": [],
   "source": [
    "for g in G:\n",
    "    problem += sum_x_by_g(g, SP) <= len(D) * 3"
   ]
  },
  {
   "cell_type": "markdown",
   "metadata": {},
   "source": [
    "## Amount of lessons for teacher must be no more than payload in plan"
   ]
  },
  {
   "cell_type": "code",
   "execution_count": 31,
   "metadata": {},
   "outputs": [],
   "source": [
    "for teacher in L:\n",
    "    problem += sum_x_by_l(teacher, SP) <= len(D) * 3"
   ]
  },
  {
   "cell_type": "markdown",
   "metadata": {},
   "source": [
    "## One lesson per time slot for one group"
   ]
  },
  {
   "cell_type": "code",
   "execution_count": 32,
   "metadata": {},
   "outputs": [],
   "source": [
    "def sum_x_for_group_at_dt(g, d, t, SP):\n",
    "    s = 0\n",
    "    for key in itertools.product(L, [g], types, subjs, [d], [t]):\n",
    "        s += SP[key]\n",
    "    return s"
   ]
  },
  {
   "cell_type": "code",
   "execution_count": 33,
   "metadata": {},
   "outputs": [],
   "source": [
    "for key in get_all_gdt_keys(G, D, T):\n",
    "    s = sum_x_for_group_at_dt(*key, SP)\n",
    "    problem += s <= 1\n",
    "    problem += s >= 0"
   ]
  },
  {
   "cell_type": "markdown",
   "metadata": {},
   "source": [
    "## One lesson per time slot for one teacher"
   ]
  },
  {
   "cell_type": "code",
   "execution_count": 34,
   "metadata": {},
   "outputs": [],
   "source": [
    "def sum_x_for_teacher_at_dt(l, d, t, SP):\n",
    "    s = 0\n",
    "    for key in itertools.product([l], G, types, subjs, [d], [t]):\n",
    "        s += SP[key]\n",
    "    return s"
   ]
  },
  {
   "cell_type": "code",
   "execution_count": 35,
   "metadata": {},
   "outputs": [],
   "source": [
    "for key in get_all_ldt_keys(L, D, T):\n",
    "    s = sum_x_for_teacher_at_dt(*key, SP)\n",
    "    problem += s <= 1\n",
    "    problem += s >= 0"
   ]
  },
  {
   "cell_type": "markdown",
   "metadata": {},
   "source": [
    "## No more than 3 lessons for one group per day"
   ]
  },
  {
   "cell_type": "code",
   "execution_count": 36,
   "metadata": {},
   "outputs": [],
   "source": [
    "def sum_x_for_group_per_day(g, d, SP):\n",
    "    s = 0\n",
    "    for key in itertools.product(L, [g], types, subjs, [d], T):\n",
    "        s += SP[key]\n",
    "    return s"
   ]
  },
  {
   "cell_type": "code",
   "execution_count": 37,
   "metadata": {},
   "outputs": [],
   "source": [
    "for (group, day) in itertools.product(G, D):\n",
    "    problem += sum_x_for_group_per_day(group, day, SP) <= 3"
   ]
  },
  {
   "cell_type": "markdown",
   "metadata": {},
   "source": [
    "## No more than 4 lessons for one teacher per day"
   ]
  },
  {
   "cell_type": "code",
   "execution_count": 38,
   "metadata": {},
   "outputs": [],
   "source": [
    "def sum_x_for_teacher_per_day(l, d, SP):\n",
    "    s = 0\n",
    "    for key in itertools.product([l], G, types, subjs, [d], T):\n",
    "        s += SP[key]\n",
    "    return s"
   ]
  },
  {
   "cell_type": "code",
   "execution_count": 39,
   "metadata": {},
   "outputs": [],
   "source": [
    "for (teacher, day) in itertools.product(L, D):\n",
    "    problem += sum_x_for_teacher_per_day(teacher, day, SP) <= 4"
   ]
  },
  {
   "cell_type": "markdown",
   "metadata": {},
   "source": [
    "## No more than 2 lessons of one subject for group per day"
   ]
  },
  {
   "cell_type": "code",
   "execution_count": 40,
   "metadata": {},
   "outputs": [],
   "source": [
    "def sum_x_of_same_subject_for_group_per_day(g, d, subj, SP):\n",
    "    s = 0\n",
    "    for key in itertools.product(L, [g], types, [subj], [d], T):\n",
    "        s += SP[key]\n",
    "    return s"
   ]
  },
  {
   "cell_type": "code",
   "execution_count": 41,
   "metadata": {},
   "outputs": [],
   "source": [
    "for (group, day, subj) in itertools.product(G, D, subjs):\n",
    "    problem += sum_x_of_same_subject_for_group_per_day(group, day, subj, SP) <= 2"
   ]
  },
  {
   "cell_type": "markdown",
   "metadata": {},
   "source": [
    "# Solution"
   ]
  },
  {
   "cell_type": "code",
   "execution_count": 42,
   "metadata": {},
   "outputs": [
    {
     "data": {
      "text/plain": [
       "1"
      ]
     },
     "execution_count": 42,
     "metadata": {},
     "output_type": "execute_result"
    }
   ],
   "source": [
    "problem.solve(solver=solvers.GLPK(options=['--log', 'tsp.log', '--wmps', 'out.mps']))"
   ]
  },
  {
   "cell_type": "code",
   "execution_count": 43,
   "metadata": {},
   "outputs": [],
   "source": [
    "def print_solution(problem):\n",
    "    print(\"Status:\", LpStatus[problem.status])\n",
    "    for v in problem.variables():\n",
    "         if (v.varValue > 0.0):\n",
    "            print(v.name, \"=\", v.varValue)\n",
    "            #print(\"Total Cost =\", pulp.value(problem.objective))"
   ]
  },
  {
   "cell_type": "code",
   "execution_count": null,
   "metadata": {},
   "outputs": [],
   "source": []
  },
  {
   "cell_type": "code",
   "execution_count": 44,
   "metadata": {},
   "outputs": [
    {
     "name": "stdout",
     "output_type": "stream",
     "text": [
      "Status: Optimal\n",
      "Ig_(0,_0,_'b') = 1\n",
      "Ig_(0,_0,_'c') = 1\n",
      "Ig_(0,_1,_'b') = 1\n",
      "Ig_(0,_1,_'c') = 1\n",
      "Ig_(0,_2,_'b') = 1\n",
      "Ig_(0,_2,_'c') = 1\n",
      "Il_('Robert_Cameron',_0,_'b') = 1\n",
      "Il_('Robert_Cameron',_0,_'c') = 1\n",
      "Il_('Robert_Cameron',_1,_'b') = 1\n",
      "Il_('Robert_Cameron',_1,_'c') = 1\n",
      "Il_('Robert_Cameron',_2,_'b') = 1\n",
      "Il_('Robert_Cameron',_2,_'c') = 1\n",
      "SP_('Robert_Cameron',_0,_'lab',_'Accommodation_manager',_0,_'b') = 1\n",
      "SP_('Robert_Cameron',_0,_'lab',_'Accommodation_manager',_1,_'b') = 1\n",
      "SP_('Robert_Cameron',_0,_'lab',_'Accommodation_manager',_2,_'b') = 1\n",
      "SP_('Robert_Cameron',_0,_'lab',_'Accommodation_manager',_2,_'d') = 1\n",
      "SP_('Robert_Cameron',_0,_'lab',_'Administrator,_arts',_0,_'c') = 1\n",
      "SP_('Robert_Cameron',_0,_'lab',_'Administrator,_arts',_0,_'d') = 1\n",
      "SP_('Robert_Cameron',_0,_'lab',_'Administrator,_arts',_1,_'c') = 1\n",
      "SP_('Robert_Cameron',_0,_'lab',_'Administrator,_arts',_1,_'d') = 1\n",
      "SP_('Robert_Cameron',_0,_'lab',_'Administrator,_arts',_2,_'c') = 1\n"
     ]
    }
   ],
   "source": [
    "print_solution(problem)"
   ]
  },
  {
   "cell_type": "code",
   "execution_count": 45,
   "metadata": {
    "scrolled": true
   },
   "outputs": [
    {
     "name": "stdout",
     "output_type": "stream",
     "text": [
      "-93.0\n"
     ]
    }
   ],
   "source": [
    "print(value(problem.objective))"
   ]
  },
  {
   "cell_type": "code",
   "execution_count": 46,
   "metadata": {},
   "outputs": [
    {
     "ename": "KeyError",
     "evalue": "('Christopher Terrell', 0, 'lection', 'Electronics engineer', 0, 'a')",
     "output_type": "error",
     "traceback": [
      "\u001b[1;31m---------------------------------------------------------------------------\u001b[0m",
      "\u001b[1;31mKeyError\u001b[0m                                  Traceback (most recent call last)",
      "\u001b[1;32m<ipython-input-46-ab866b14d7bf>\u001b[0m in \u001b[0;36m<module>\u001b[1;34m\u001b[0m\n\u001b[0;32m      1\u001b[0m \u001b[1;31m#print([get_x_by_gdt(0, 0, time, SP) for time in T])\u001b[0m\u001b[1;33m\u001b[0m\u001b[1;33m\u001b[0m\u001b[1;33m\u001b[0m\u001b[0m\n\u001b[1;32m----> 2\u001b[1;33m \u001b[0mprint\u001b[0m\u001b[1;33m(\u001b[0m\u001b[1;33m[\u001b[0m\u001b[0mSP\u001b[0m\u001b[1;33m[\u001b[0m\u001b[1;33m(\u001b[0m\u001b[1;34m'Christopher Terrell'\u001b[0m\u001b[1;33m,\u001b[0m \u001b[1;36m0\u001b[0m\u001b[1;33m,\u001b[0m \u001b[0mtype_\u001b[0m\u001b[1;33m,\u001b[0m\u001b[1;34m'Electronics engineer'\u001b[0m\u001b[1;33m,\u001b[0m \u001b[1;36m0\u001b[0m\u001b[1;33m,\u001b[0m \u001b[0mtime\u001b[0m\u001b[1;33m)\u001b[0m\u001b[1;33m]\u001b[0m \u001b[1;32mfor\u001b[0m \u001b[1;33m(\u001b[0m\u001b[0mtype_\u001b[0m\u001b[1;33m,\u001b[0m \u001b[0mtime\u001b[0m\u001b[1;33m)\u001b[0m \u001b[1;32min\u001b[0m \u001b[0mitertools\u001b[0m\u001b[1;33m.\u001b[0m\u001b[0mproduct\u001b[0m\u001b[1;33m(\u001b[0m\u001b[0mtypes\u001b[0m\u001b[1;33m,\u001b[0m \u001b[0mT\u001b[0m\u001b[1;33m)\u001b[0m\u001b[1;33m]\u001b[0m\u001b[1;33m)\u001b[0m\u001b[1;33m\u001b[0m\u001b[1;33m\u001b[0m\u001b[0m\n\u001b[0m\u001b[0;32m      3\u001b[0m \u001b[1;31m#print(SP)\u001b[0m\u001b[1;33m\u001b[0m\u001b[1;33m\u001b[0m\u001b[1;33m\u001b[0m\u001b[0m\n",
      "\u001b[1;32m<ipython-input-46-ab866b14d7bf>\u001b[0m in \u001b[0;36m<listcomp>\u001b[1;34m(.0)\u001b[0m\n\u001b[0;32m      1\u001b[0m \u001b[1;31m#print([get_x_by_gdt(0, 0, time, SP) for time in T])\u001b[0m\u001b[1;33m\u001b[0m\u001b[1;33m\u001b[0m\u001b[1;33m\u001b[0m\u001b[0m\n\u001b[1;32m----> 2\u001b[1;33m \u001b[0mprint\u001b[0m\u001b[1;33m(\u001b[0m\u001b[1;33m[\u001b[0m\u001b[0mSP\u001b[0m\u001b[1;33m[\u001b[0m\u001b[1;33m(\u001b[0m\u001b[1;34m'Christopher Terrell'\u001b[0m\u001b[1;33m,\u001b[0m \u001b[1;36m0\u001b[0m\u001b[1;33m,\u001b[0m \u001b[0mtype_\u001b[0m\u001b[1;33m,\u001b[0m\u001b[1;34m'Electronics engineer'\u001b[0m\u001b[1;33m,\u001b[0m \u001b[1;36m0\u001b[0m\u001b[1;33m,\u001b[0m \u001b[0mtime\u001b[0m\u001b[1;33m)\u001b[0m\u001b[1;33m]\u001b[0m \u001b[1;32mfor\u001b[0m \u001b[1;33m(\u001b[0m\u001b[0mtype_\u001b[0m\u001b[1;33m,\u001b[0m \u001b[0mtime\u001b[0m\u001b[1;33m)\u001b[0m \u001b[1;32min\u001b[0m \u001b[0mitertools\u001b[0m\u001b[1;33m.\u001b[0m\u001b[0mproduct\u001b[0m\u001b[1;33m(\u001b[0m\u001b[0mtypes\u001b[0m\u001b[1;33m,\u001b[0m \u001b[0mT\u001b[0m\u001b[1;33m)\u001b[0m\u001b[1;33m]\u001b[0m\u001b[1;33m)\u001b[0m\u001b[1;33m\u001b[0m\u001b[1;33m\u001b[0m\u001b[0m\n\u001b[0m\u001b[0;32m      3\u001b[0m \u001b[1;31m#print(SP)\u001b[0m\u001b[1;33m\u001b[0m\u001b[1;33m\u001b[0m\u001b[1;33m\u001b[0m\u001b[0m\n",
      "\u001b[1;31mKeyError\u001b[0m: ('Christopher Terrell', 0, 'lection', 'Electronics engineer', 0, 'a')"
     ]
    }
   ],
   "source": [
    "#print([get_x_by_gdt(0, 0, time, SP) for time in T])\n",
    "print([SP[('Christopher Terrell', 0, type_,'Electronics engineer', 0, time)] for (type_, time) in itertools.product(types, T)])\n",
    "#print(SP)"
   ]
  },
  {
   "cell_type": "code",
   "execution_count": null,
   "metadata": {},
   "outputs": [],
   "source": []
  }
 ],
 "metadata": {
  "kernelspec": {
   "display_name": "Python 3",
   "language": "python",
   "name": "python3"
  },
  "language_info": {
   "codemirror_mode": {
    "name": "ipython",
    "version": 3
   },
   "file_extension": ".py",
   "mimetype": "text/x-python",
   "name": "python",
   "nbconvert_exporter": "python",
   "pygments_lexer": "ipython3",
   "version": "3.7.3"
  }
 },
 "nbformat": 4,
 "nbformat_minor": 2
}
