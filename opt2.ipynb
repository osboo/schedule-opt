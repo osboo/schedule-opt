{
 "cells": [
  {
   "cell_type": "markdown",
   "metadata": {},
   "source": [
    "!pip install pulp"
   ]
  },
  {
   "cell_type": "markdown",
   "metadata": {},
   "source": [
    "!pip install Faker"
   ]
  },
  {
   "cell_type": "code",
   "execution_count": 1,
   "metadata": {},
   "outputs": [],
   "source": [
    "import itertools"
   ]
  },
  {
   "cell_type": "code",
   "execution_count": 2,
   "metadata": {},
   "outputs": [],
   "source": [
    "from pulp import *\n",
    "problem = LpProblem(\"schedule-opt\", LpMaximize)"
   ]
  },
  {
   "cell_type": "code",
   "execution_count": 3,
   "metadata": {},
   "outputs": [],
   "source": [
    "from faker import Faker\n",
    "fake = Faker() "
   ]
  },
  {
   "cell_type": "code",
   "execution_count": 4,
   "metadata": {},
   "outputs": [],
   "source": [
    "from collections import namedtuple"
   ]
  },
  {
   "cell_type": "code",
   "execution_count": 5,
   "metadata": {},
   "outputs": [],
   "source": [
    "N_l = 20 # number of teachers\n",
    "N_g = 20 # number of groups\n",
    "N_s = 20 # number of courses\n",
    "N_d = 12 # number of days\n",
    "N_t = 8 # number of times per day"
   ]
  },
  {
   "cell_type": "code",
   "execution_count": 6,
   "metadata": {},
   "outputs": [],
   "source": [
    "L = [fake.name() for _ in range(N_l)]\n",
    "G = \"a,b,c,d,e,f,g,h,i,j,k,l,m,n,o,p,q,r,s,t,u,v,w,z,y,z\"[0:2*N_g].split(',')[:-1]\n",
    "types = ['lection', 'lab', 'practice']\n",
    "subjs = [fake.job().replace(',', '')[0:15] for _ in range(N_s)]\n",
    "D = \"a,b,c,d,e,f,g,h,i,j,k,l,m,n,o,p,q,r,s,t,u,v,w,z,y,z\"[0:2*N_d].split(',')[:-1]\n",
    "T = \"a,b,c,d,e,f,g,h,i,j,k,l,m,n,o,p,q,r,s,t,u,v,w,z,y,z\"[0:2*N_t].split(',')[:-1]"
   ]
  },
  {
   "cell_type": "code",
   "execution_count": 7,
   "metadata": {},
   "outputs": [],
   "source": [
    "def get_all_sp_keys(L, G, types, subjs, D, T):\n",
    "    return itertools.product(L, G, types, subjs, D, T)"
   ]
  },
  {
   "cell_type": "code",
   "execution_count": 8,
   "metadata": {},
   "outputs": [],
   "source": [
    "def get_all_gdt_keys(GG, DD, TT):\n",
    "    return itertools.product(GG, DD, TT)"
   ]
  },
  {
   "cell_type": "code",
   "execution_count": 9,
   "metadata": {},
   "outputs": [],
   "source": [
    "def get_all_ldt_keys(LL, DD, TT):\n",
    "    return itertools.product(LL, DD, TT)"
   ]
  },
  {
   "cell_type": "code",
   "execution_count": 10,
   "metadata": {},
   "outputs": [],
   "source": [
    "SP = LpVariable.dicts(\"SP\", get_all_sp_keys(L, G, types, subjs, D, T), 0, 1, cat=pulp.LpInteger)"
   ]
  },
  {
   "cell_type": "code",
   "execution_count": 11,
   "metadata": {},
   "outputs": [],
   "source": [
    "Ig = LpVariable.dicts(\"Ig\", get_all_gdt_keys(G, D, T[:-1]), -1, 1, cat=pulp.LpInteger)"
   ]
  },
  {
   "cell_type": "code",
   "execution_count": 12,
   "metadata": {},
   "outputs": [],
   "source": [
    "Il = LpVariable.dicts(\"Il\", get_all_ldt_keys(L, D, T[:-1]), -1, 1, cat=pulp.LpInteger)"
   ]
  },
  {
   "cell_type": "code",
   "execution_count": 13,
   "metadata": {},
   "outputs": [],
   "source": [
    "one = LpVariable(\"one\", 1, 1, cat=pulp.LpInteger)"
   ]
  },
  {
   "cell_type": "code",
   "execution_count": 14,
   "metadata": {},
   "outputs": [],
   "source": [
    "zero = LpVariable(\"zero\", 0, 0, cat=pulp.LpInteger)"
   ]
  },
  {
   "cell_type": "code",
   "execution_count": 15,
   "metadata": {},
   "outputs": [],
   "source": [
    "def get_x_by_gdt(g, d, t, SP):\n",
    "    s = lpSum([SP[key] for key in itertools.product(L, [g], types, subjs, [d], [t])])\n",
    "    return s"
   ]
  },
  {
   "cell_type": "code",
   "execution_count": null,
   "metadata": {},
   "outputs": [],
   "source": [
    "def get_x_by_ldt(l, d, t, SP):\n",
    "    s = lpSum([SP[key] for key in itertools.product([l], G, types, subjs, [d], [t])])\n",
    "    return s"
   ]
  },
  {
   "cell_type": "code",
   "execution_count": null,
   "metadata": {},
   "outputs": [],
   "source": [
    "def sum_x_by_g(g, SP):\n",
    "    sum = lpSum([SP[key] for key in itertools.product(L, [g], types, subjs, D, T)])\n",
    "    return sum"
   ]
  },
  {
   "cell_type": "code",
   "execution_count": null,
   "metadata": {},
   "outputs": [],
   "source": [
    "def sum_x_by_l(l, SP):\n",
    "    sum = lpSum([SP[key] for key in itertools.product([l], G, types, subjs, D, T)])\n",
    "    return sum"
   ]
  },
  {
   "cell_type": "code",
   "execution_count": null,
   "metadata": {},
   "outputs": [],
   "source": [
    "alpha = 1.0\n",
    "beta = 1.0\n",
    "gamma = 1.0"
   ]
  },
  {
   "cell_type": "code",
   "execution_count": null,
   "metadata": {},
   "outputs": [],
   "source": [
    "def get_c(key):\n",
    "    return 1.0"
   ]
  },
  {
   "cell_type": "markdown",
   "metadata": {},
   "source": [
    "# Problem"
   ]
  },
  {
   "cell_type": "code",
   "execution_count": null,
   "metadata": {},
   "outputs": [],
   "source": [
    "all_lectures = [alpha * get_c(key) * SP[key] for key in get_all_sp_keys(L, G, types, subjs, D, T)]"
   ]
  },
  {
   "cell_type": "code",
   "execution_count": null,
   "metadata": {},
   "outputs": [],
   "source": [
    "all_groups_no_gaps = [beta * Ig[key] for key in get_all_gdt_keys(G, D, T[:-1])]"
   ]
  },
  {
   "cell_type": "code",
   "execution_count": null,
   "metadata": {},
   "outputs": [],
   "source": [
    "all_teachers_no_gaps = [gamma * Il[key] for key in get_all_ldt_keys(L, D, T[:-1])]"
   ]
  },
  {
   "cell_type": "code",
   "execution_count": null,
   "metadata": {},
   "outputs": [],
   "source": [
    "problem += lpSum(all_lectures + all_groups_no_gaps + all_teachers_no_gaps)"
   ]
  },
  {
   "cell_type": "markdown",
   "metadata": {},
   "source": [
    "# Constraints"
   ]
  },
  {
   "cell_type": "markdown",
   "metadata": {},
   "source": [
    "## Minimize gaps between lessons for teacher"
   ]
  },
  {
   "cell_type": "code",
   "execution_count": null,
   "metadata": {},
   "outputs": [],
   "source": [
    "def next_letter(symbol):\n",
    "    return T[(T.index(symbol) + 1) % len(T)]"
   ]
  },
  {
   "cell_type": "code",
   "execution_count": null,
   "metadata": {},
   "outputs": [],
   "source": [
    "for (teacher, day, time) in itertools.product(L, D, T[:-1]):\n",
    "    # problem += get_x_by_ldt(teacher, day, time, SP) + get_x_by_ldt(teacher, day, time + 1, SP) -1 >= Il[teacher, day, time]\n",
    "    problem += get_x_by_ldt(teacher, day, time, SP) + get_x_by_ldt(teacher, day, next_letter(time), SP)- Il[teacher, day, time] >= 1"
   ]
  },
  {
   "cell_type": "markdown",
   "metadata": {},
   "source": [
    "## Minimize gaps between lessons for group"
   ]
  },
  {
   "cell_type": "code",
   "execution_count": null,
   "metadata": {},
   "outputs": [],
   "source": [
    "for (group, day, time) in itertools.product(G, D, T[:-1]):\n",
    "    # problem += get_x_by_gdt(group, day, time, SP) + get_x_by_gdt(group, day, time + 1, SP) -1 >= Ig[group, day, time]\n",
    "    problem += get_x_by_gdt(group, day, time, SP) + get_x_by_gdt(group, day, next_letter(time), SP)- Ig[group, day, time] >= 1"
   ]
  },
  {
   "cell_type": "markdown",
   "metadata": {},
   "source": [
    "with open('problem.txt', 'w') as f:\n",
    "    print(problem, file=f)"
   ]
  },
  {
   "cell_type": "markdown",
   "metadata": {},
   "source": [
    "## Amount of lessons for group must be no more than payload in plan"
   ]
  },
  {
   "cell_type": "code",
   "execution_count": null,
   "metadata": {},
   "outputs": [],
   "source": [
    "for g in G:\n",
    "    problem += sum_x_by_g(g, SP) <= len(D) * 3"
   ]
  },
  {
   "cell_type": "markdown",
   "metadata": {},
   "source": [
    "## Amount of lessons for teacher must be no more than payload in plan"
   ]
  },
  {
   "cell_type": "code",
   "execution_count": null,
   "metadata": {},
   "outputs": [],
   "source": [
    "for teacher in L:\n",
    "    problem += sum_x_by_l(teacher, SP) <= len(D) * 3"
   ]
  },
  {
   "cell_type": "markdown",
   "metadata": {},
   "source": [
    "## One lesson per time slot for one group"
   ]
  },
  {
   "cell_type": "code",
   "execution_count": null,
   "metadata": {},
   "outputs": [],
   "source": [
    "def sum_x_for_group_at_dt(g, d, t, SP):\n",
    "    s = 0\n",
    "    for key in itertools.product(L, [g], types, subjs, [d], [t]):\n",
    "        s += SP[key]\n",
    "    return s"
   ]
  },
  {
   "cell_type": "code",
   "execution_count": null,
   "metadata": {},
   "outputs": [],
   "source": [
    "for key in get_all_gdt_keys(G, D, T):\n",
    "    s = sum_x_for_group_at_dt(*key, SP)\n",
    "    problem += s <= 1\n",
    "    problem += s >= 0"
   ]
  },
  {
   "cell_type": "markdown",
   "metadata": {},
   "source": [
    "## One lesson per time slot for one teacher"
   ]
  },
  {
   "cell_type": "code",
   "execution_count": null,
   "metadata": {},
   "outputs": [],
   "source": [
    "def sum_x_for_teacher_at_dt(l, d, t, SP):\n",
    "    s = 0\n",
    "    for key in itertools.product([l], G, types, subjs, [d], [t]):\n",
    "        s += SP[key]\n",
    "    return s"
   ]
  },
  {
   "cell_type": "code",
   "execution_count": null,
   "metadata": {},
   "outputs": [],
   "source": [
    "for key in get_all_ldt_keys(L, D, T):\n",
    "    s = sum_x_for_teacher_at_dt(*key, SP)\n",
    "    problem += s <= 1\n",
    "    problem += s >= 0"
   ]
  },
  {
   "cell_type": "markdown",
   "metadata": {},
   "source": [
    "## No more than 3 lessons for one group per day"
   ]
  },
  {
   "cell_type": "code",
   "execution_count": null,
   "metadata": {},
   "outputs": [],
   "source": [
    "def sum_x_for_group_per_day(g, d, SP):\n",
    "    s = 0\n",
    "    for key in itertools.product(L, [g], types, subjs, [d], T):\n",
    "        s += SP[key]\n",
    "    return s"
   ]
  },
  {
   "cell_type": "code",
   "execution_count": null,
   "metadata": {},
   "outputs": [],
   "source": [
    "for (group, day) in itertools.product(G, D):\n",
    "    problem += sum_x_for_group_per_day(group, day, SP) <= 3"
   ]
  },
  {
   "cell_type": "markdown",
   "metadata": {},
   "source": [
    "## No more than 4 lessons for one teacher per day"
   ]
  },
  {
   "cell_type": "code",
   "execution_count": null,
   "metadata": {},
   "outputs": [],
   "source": [
    "def sum_x_for_teacher_per_day(l, d, SP):\n",
    "    s = 0\n",
    "    for key in itertools.product([l], G, types, subjs, [d], T):\n",
    "        s += SP[key]\n",
    "    return s"
   ]
  },
  {
   "cell_type": "code",
   "execution_count": null,
   "metadata": {},
   "outputs": [],
   "source": [
    "for (teacher, day) in itertools.product(L, D):\n",
    "    problem += sum_x_for_teacher_per_day(teacher, day, SP) <= 4"
   ]
  },
  {
   "cell_type": "markdown",
   "metadata": {},
   "source": [
    "## No more than 2 lessons of one subject for group per day"
   ]
  },
  {
   "cell_type": "code",
   "execution_count": null,
   "metadata": {},
   "outputs": [],
   "source": [
    "def sum_x_of_same_subject_for_group_per_day(g, d, subj, SP):\n",
    "    s = 0\n",
    "    for key in itertools.product(L, [g], types, [subj], [d], T):\n",
    "        s += SP[key]\n",
    "    return s"
   ]
  },
  {
   "cell_type": "code",
   "execution_count": null,
   "metadata": {},
   "outputs": [],
   "source": [
    "for (group, day, subj) in itertools.product(G, D, subjs):\n",
    "    problem += sum_x_of_same_subject_for_group_per_day(group, day, subj, SP) <= 2"
   ]
  },
  {
   "cell_type": "markdown",
   "metadata": {},
   "source": [
    "# Solution"
   ]
  },
  {
   "cell_type": "code",
   "execution_count": null,
   "metadata": {},
   "outputs": [],
   "source": [
    "problem.solve(solver=solvers.GLPK(options=['--log', 'lessons.log', '--wmps', 'lessons.mps', '--check']))"
   ]
  },
  {
   "cell_type": "code",
   "execution_count": null,
   "metadata": {},
   "outputs": [],
   "source": [
    "def print_solution(problem):\n",
    "    print(\"Status:\", LpStatus[problem.status])\n",
    "    for v in problem.variables():\n",
    "         if (v.varValue > 0.0):\n",
    "            print(v.name, \"=\", v.varValue)\n",
    "            #print(\"Total Cost =\", pulp.value(problem.objective))"
   ]
  },
  {
   "cell_type": "code",
   "execution_count": null,
   "metadata": {},
   "outputs": [],
   "source": [
    "print_solution(problem)"
   ]
  },
  {
   "cell_type": "code",
   "execution_count": null,
   "metadata": {
    "scrolled": true
   },
   "outputs": [],
   "source": [
    "print(value(problem.objective))"
   ]
  },
  {
   "cell_type": "markdown",
   "metadata": {},
   "source": [
    "# Match lessons to rooms"
   ]
  },
  {
   "cell_type": "code",
   "execution_count": null,
   "metadata": {},
   "outputs": [],
   "source": [
    "TheSix = namedtuple('TheSix', ['teacher', 'group', 'lesson_type', 'subject', 'day', 'time'])\n",
    "\n",
    "def get_tuple(v):\n",
    "    # SP_('Shane_Gordon',_0,_'lab',_'Paramedic',_0,_'b')\n",
    "    x = v.name.split(',_') # [\"SP_('Shane_Gordon'\", '0', \"'lab'\", \"'Paramedic'\", '0', \"'b')\"]\n",
    "    start = \"'\"\n",
    "    end = \"'\"\n",
    "    return TheSix(*list(map(lambda s: s[s.find(start)+len(start):s.rfind(end)].replace('_', ' '), x)))"
   ]
  },
  {
   "cell_type": "code",
   "execution_count": null,
   "metadata": {},
   "outputs": [],
   "source": [
    "def extract_optimal_solution(problem):\n",
    "    optimals = [get_tuple(v) for v in problem.variables() if v.varValue > 0.0 and v.name.startswith('SP')]\n",
    "    return optimals"
   ]
  },
  {
   "cell_type": "code",
   "execution_count": null,
   "metadata": {},
   "outputs": [],
   "source": [
    "N_r = 26\n",
    "R = \"a,b,c,d,e,f,g,h,i,j,k,l,m,n,o,p,q,r,s,t,u,v,w,z,y,z\"[0:2*N_r].split(',')[:-1]"
   ]
  },
  {
   "cell_type": "code",
   "execution_count": null,
   "metadata": {},
   "outputs": [],
   "source": [
    "TypedRoom = namedtuple('TypedRoom', ['room', 'type'])"
   ]
  },
  {
   "cell_type": "code",
   "execution_count": null,
   "metadata": {},
   "outputs": [],
   "source": [
    "lection_rooms_number = 3\n",
    "lab_rooms_number = 3\n",
    "practice_rooms_number = 3\n",
    "lections_rooms = list(map(lambda room: TypedRoom(room=room, type='lection'), R[0:lection_rooms_number]))\n",
    "lab_rooms = list(map(lambda room: TypedRoom(room=room, type='lab'), R[lection_rooms_number:lection_rooms_number + lab_rooms_number]))\n",
    "practice_rooms = list(map(lambda room: TypedRoom(room=room, type='practice'), R[lection_rooms_number + lab_rooms_number: lection_rooms_number + lab_rooms_number + practice_rooms_number]))\n",
    "available_rooms = lections_rooms + lab_rooms + practice_rooms"
   ]
  },
  {
   "cell_type": "code",
   "execution_count": null,
   "metadata": {},
   "outputs": [],
   "source": [
    "lessons = extract_optimal_solution(problem)"
   ]
  },
  {
   "cell_type": "code",
   "execution_count": null,
   "metadata": {},
   "outputs": [],
   "source": [
    "problem_match = LpProblem(\"match-to-rooms\", LpMaximize)"
   ]
  },
  {
   "cell_type": "code",
   "execution_count": null,
   "metadata": {},
   "outputs": [],
   "source": [
    "Z = LpVariable.dicts(\"Z\", list(map(lambda pair: (tuple(pair[0]), tuple(pair[1])), itertools.product(lessons, available_rooms))), 0, 1, cat=pulp.LpInteger)"
   ]
  },
  {
   "cell_type": "markdown",
   "metadata": {},
   "source": [
    "## Rooms have priorities for appropriate lessons"
   ]
  },
  {
   "cell_type": "code",
   "execution_count": null,
   "metadata": {},
   "outputs": [],
   "source": [
    "priority = {\n",
    "    'lection': {'lection': 1.0},\n",
    "    'lection': {'practice': 0.5},\n",
    "    'lection': {'lab': -1.0},\n",
    "    \n",
    "    'practice': {'lection': -1.0},\n",
    "    'practice': {'practice': 1.0},\n",
    "    'practice': {'lab': -1.0},\n",
    "    \n",
    "    'lab': {'lection': -1.0},\n",
    "    'lab': {'practice': 0.5},\n",
    "    'lab': {'lab': 1.0},\n",
    "} # from room type to lesson type"
   ]
  },
  {
   "cell_type": "code",
   "execution_count": null,
   "metadata": {},
   "outputs": [],
   "source": [
    "def get_c(key):\n",
    "    return priority[key[1].type][key[0].lesson_type]    "
   ]
  },
  {
   "cell_type": "code",
   "execution_count": null,
   "metadata": {},
   "outputs": [],
   "source": [
    "problem_match += lpSum([get_c(key) * Z[(key[0], key[1])] for key in itertools.product(lessons, available_rooms)])"
   ]
  },
  {
   "cell_type": "code",
   "execution_count": null,
   "metadata": {},
   "outputs": [],
   "source": [
    "def get_z_by_lesson(lesson, Z):\n",
    "    s = lpSum([Z[(key[0], key[1])] for key in itertools.product([lesson], available_rooms)])\n",
    "    return s"
   ]
  },
  {
   "cell_type": "code",
   "execution_count": null,
   "metadata": {},
   "outputs": [],
   "source": [
    "def get_lessons_by_day_time(d, t, lessons):\n",
    "    return list(filter(lambda lesson: lesson.day == d and lesson.time == t, lessons))"
   ]
  },
  {
   "cell_type": "code",
   "execution_count": null,
   "metadata": {},
   "outputs": [],
   "source": [
    "def get_z_by_day_time(d, t, Z):\n",
    "    lessons_at_moment = get_lessons_by_day_time(d, t, lessons)\n",
    "    if len(lessons_at_moment) > 0:\n",
    "        return lpSum([Z[(key[0], key[1])] for key in itertools.product(lessons_at_moment, available_rooms)])\n",
    "    return None"
   ]
  },
  {
   "cell_type": "code",
   "execution_count": null,
   "metadata": {},
   "outputs": [],
   "source": [
    "for (d, t) in itertools.product(D, T):\n",
    "    contraint = get_z_by_day_time(d, t, Z)\n",
    "    if contraint:\n",
    "        problem_match += contraint <= 1"
   ]
  },
  {
   "cell_type": "code",
   "execution_count": null,
   "metadata": {},
   "outputs": [],
   "source": [
    "for lesson in lessons:\n",
    "    problem_match += get_z_by_lesson(lesson, Z) == 1"
   ]
  },
  {
   "cell_type": "markdown",
   "metadata": {},
   "source": [
    "# Solution"
   ]
  },
  {
   "cell_type": "code",
   "execution_count": null,
   "metadata": {},
   "outputs": [],
   "source": [
    "with open('problem_match.txt', 'w') as f:\n",
    "    print(problem_match, file=f)"
   ]
  },
  {
   "cell_type": "code",
   "execution_count": null,
   "metadata": {},
   "outputs": [],
   "source": [
    "problem_match.solve(solver=solvers.GLPK(options=['--log', 'match.log', '--wmps', 'match.mps']))"
   ]
  },
  {
   "cell_type": "code",
   "execution_count": null,
   "metadata": {},
   "outputs": [],
   "source": [
    "print(value(problem_match.objective))"
   ]
  },
  {
   "cell_type": "code",
   "execution_count": null,
   "metadata": {},
   "outputs": [],
   "source": [
    "print_solution(problem_match)"
   ]
  },
  {
   "cell_type": "code",
   "execution_count": null,
   "metadata": {},
   "outputs": [],
   "source": []
  },
  {
   "cell_type": "code",
   "execution_count": null,
   "metadata": {},
   "outputs": [],
   "source": []
  },
  {
   "cell_type": "code",
   "execution_count": null,
   "metadata": {},
   "outputs": [],
   "source": []
  }
 ],
 "metadata": {
  "kernelspec": {
   "display_name": "Python 3",
   "language": "python",
   "name": "python3"
  },
  "language_info": {
   "codemirror_mode": {
    "name": "ipython",
    "version": 3
   },
   "file_extension": ".py",
   "mimetype": "text/x-python",
   "name": "python",
   "nbconvert_exporter": "python",
   "pygments_lexer": "ipython3",
   "version": "3.7.3"
  }
 },
 "nbformat": 4,
 "nbformat_minor": 2
}
